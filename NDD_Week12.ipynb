{
 "cells": [
  {
   "cell_type": "code",
   "execution_count": 24,
   "metadata": {},
   "outputs": [],
   "source": [
    "# Importing necessary packages\n",
    "import numpy as np\n",
    "import matplotlib.pyplot as plt\n",
    "import operator\n",
    "from mpl_toolkits.mplot3d import Axes3D\n",
    "from sklearn import mixture\n",
    "from sklearn.decomposition import NMF\n",
    "from sklearn.cluster import KMeans, AgglomerativeClustering, MeanShift, estimate_bandwidth\n",
    "from sklearn.metrics import silhouette_samples, silhouette_score\n",
    "from sklearn.metrics.cluster import adjusted_rand_score\n",
    "from sklearn.datasets import load_iris"
   ]
  },
  {
   "cell_type": "code",
   "execution_count": 19,
   "metadata": {},
   "outputs": [],
   "source": [
    "# Function removes features with low variance\n",
    "def rem_low_var(feat_mat,var_thresh):\n",
    "    rem = VarianceThreshold(threshold=var_thresh)\n",
    "    return rem.fit_transform(feat_mat)"
   ]
  },
  {
   "cell_type": "code",
   "execution_count": 20,
   "metadata": {},
   "outputs": [],
   "source": [
    "# Function will run NMF on a given feature matrix and return a new matrix with desired dimensionality\n",
    "def run_NMF(feat_mat,dim_out):\n",
    "    model = NMF(n_components=dim_out,init='random', random_state=0)\n",
    "    W = model.fit_transform(feat_mat)\n",
    "    H = model.components_\n",
    "    return W"
   ]
  },
  {
   "cell_type": "code",
   "execution_count": 2,
   "metadata": {},
   "outputs": [],
   "source": [
    "# Function goal is to determine the right number of clusters for a given algorithm\n",
    "# Runs algorithms with different numbers of clusters and calculates silhouette coefficient\n",
    "# Returns the number of clusters that leads to the highest silhouette coefficient\n",
    "def get_num_clust(feat_mat,alg):\n",
    "    silhouettes = {}\n",
    "    for k in range(2,11):\n",
    "        if alg == 'agg':\n",
    "            labels = clust_agg(feat_mat,k)\n",
    "            avg_score = silhouette_score(feat_mat, labels)\n",
    "            silhouettes[str(k)] = avg_score\n",
    "        if alg == 'kmeans':\n",
    "            (labels,centers) = clust_Kmeans(feat_mat,k)\n",
    "            avg_score = silhouette_score(feat_mat, labels)\n",
    "            silhouettes[str(k)] = avg_score\n",
    "    num_clust = int(max(silhouettes.items(), key=operator.itemgetter(1))[0])\n",
    "    return num_clust"
   ]
  },
  {
   "cell_type": "code",
   "execution_count": 3,
   "metadata": {},
   "outputs": [],
   "source": [
    "# Function to estimate the bandwidth for MeanShift Clustering\n",
    "def get_bw(feat_mat):\n",
    "    bw = estimate_bandwidth(feat_mat)\n",
    "    return bw"
   ]
  },
  {
   "cell_type": "code",
   "execution_count": 4,
   "metadata": {},
   "outputs": [],
   "source": [
    "# Function runs MeanShift Clustering on a given feature matrix with a specified bandwidth parameters\n",
    "# Returns the label for each sample\n",
    "def clust_MS(feat_mat, bw):\n",
    "    ms = MeanShift(bandwidth=bw).fit(feat_mat)\n",
    "    labels = ms.labels_\n",
    "    centers = ms.cluster_centers_\n",
    "    return (labels, centers)"
   ]
  },
  {
   "cell_type": "code",
   "execution_count": 5,
   "metadata": {},
   "outputs": [],
   "source": [
    "# Function runs K-means on a given feature matrix using a specified number of clusters\n",
    "# Returns the feature matrix, the labels for each data point, and the cluster centers\n",
    "def clust_Kmeans(feat_mat, num_clust):\n",
    "    kmeans = KMeans(init='random', n_clusters=num_clust, n_init=100)\n",
    "    kmeans.fit(feat_mat)\n",
    "    labels = kmeans.labels_\n",
    "    centers = kmeans.cluster_centers_\n",
    "    return (labels, centers)"
   ]
  },
  {
   "cell_type": "code",
   "execution_count": 6,
   "metadata": {},
   "outputs": [],
   "source": [
    "# Function runs Agglomerative Clustering on a given deature matrix using a specified number of clusters\n",
    "# Retruns the label for each sample\n",
    "def clust_agg(feat_mat, num_clust):\n",
    "    labels = AgglomerativeClustering(n_clusters=num_clust).fit_predict(feat_mat)\n",
    "    return labels"
   ]
  },
  {
   "cell_type": "code",
   "execution_count": 7,
   "metadata": {},
   "outputs": [],
   "source": [
    "# Function calculates BIC for different numbers of clusters and different types of fits and returns resulting\n",
    "# bic array\n",
    "def get_bic(feat_mat):\n",
    "    lowest_bic = np.infty\n",
    "    bic = []\n",
    "    n_components_range = range(1, 10)\n",
    "    cv_types = ['spherical', 'tied', 'diag', 'full']\n",
    "    for cv_type in cv_types:\n",
    "        for n_components in n_components_range:\n",
    "            # Fit a Gaussian mixture with EM\n",
    "            gmm = mixture.GaussianMixture(n_components=n_components,\n",
    "                                          covariance_type=cv_type)\n",
    "            gmm.fit(fm)\n",
    "            bic.append(gmm.bic(fm))\n",
    "            if bic[-1] < lowest_bic:\n",
    "                lowest_bic = bic[-1]\n",
    "                best_gmm = gmm\n",
    "    bic = np.array(bic)\n",
    "    return bic"
   ]
  },
  {
   "cell_type": "code",
   "execution_count": 8,
   "metadata": {},
   "outputs": [],
   "source": [
    "# Function calculates BIC for different numbers of clusters and different types of fits and returns resulting\n",
    "# aic array\n",
    "def get_aic(feat_mat):\n",
    "    lowest_aic = np.infty\n",
    "    aic = []\n",
    "    n_components_range = range(1, 10)\n",
    "    cv_types = ['spherical', 'tied', 'diag', 'full']\n",
    "    for cv_type in cv_types:\n",
    "        for n_components in n_components_range:\n",
    "            # Fit a Gaussian mixture with EM\n",
    "            gmm = mixture.GaussianMixture(n_components=n_components,\n",
    "                                          covariance_type=cv_type)\n",
    "            gmm.fit(fm)\n",
    "            aic.append(gmm.aic(fm))\n",
    "            if bic[-1] < lowest_aic:\n",
    "                lowest_aic = aic[-1]\n",
    "                best_gmm = gmm\n",
    "    aic = np.array(aic)\n",
    "    return aic"
   ]
  },
  {
   "cell_type": "code",
   "execution_count": 25,
   "metadata": {},
   "outputs": [],
   "source": [
    "# Reading in Vivek's feature matrix\n",
    "fm = np.genfromtxt('hbn_vertexstats.csv', delimiter=',')\n",
    "fm = fm[1:,1:]\n",
    "\n",
    "#Reducing dimensionality\n",
    "fm = run_NMF(fm, int(fm.shape[1]/3))\n",
    "\n",
    "# Getting true labels\n",
    "true_labels = np.zeros(91)\n",
    "for i in range(0, fm.shape[0]):\n",
    "    true_labels[i] = fm[i,0]\n",
    "\n",
    "# Agglomerative Clustering & Silhouette Score\n",
    "numc_agg = get_num_clust(fm, 'agg')\n",
    "labels_agg = clust_agg(fm, numc_agg)\n",
    "ari_agg = adjusted_rand_score(true_labels, labels_agg)\n",
    "\n",
    "# Kmeans & Silhouette Score\n",
    "numc_kmeans = get_num_clust(fm, 'kmeans')\n",
    "(labels_kmeans, centers_kmeans) = clust_Kmeans(fm, numc_kmeans)\n",
    "ari_kmeans = adjusted_rand_score(true_labels, labels_kmeans)\n",
    "\n",
    "# MeanShift Clustering & Estimate Bandwidth\n",
    "bw = get_bw(fm)\n",
    "(labels_ms, centers_ms) = clust_MS(fm, bw)\n",
    "ari_ms = adjusted_rand_score(true_labels, labels_ms)\n",
    "\n",
    "# GMM and BIC\n",
    "bic = get_bic(fm)\n",
    "low_bc = np.argmin(bic)\n",
    "\n",
    "# GMM and AIC\n",
    "aic = get_aic(fm)\n",
    "low_aic = np.argmin(aic)\n",
    "\n",
    "# Getting BIC and AIC labels\n",
    "gmm = mixture.GaussianMixture(n_components=2, covariance_type='full')\n",
    "labels_bic = gmm.fit_predict(fm)\n",
    "ari_bic = adjusted_rand_score(true_labels, labels_bic)\n",
    "gmm = mixture.GaussianMixture(n_components=6, covariance_type='full')\n",
    "labels_aic = gmm.fit_predict(fm)\n",
    "ari_aic = adjusted_rand_score(true_labels, labels_aic)"
   ]
  },
  {
   "cell_type": "code",
   "execution_count": 29,
   "metadata": {},
   "outputs": [
    {
     "name": "stdout",
     "output_type": "stream",
     "text": [
      "[0 1 0 0 0 0 0 1 0 0 0 0 0 0 0 1 0 0 1 0 0 0 0 0 0 0 1 0 1 0 0 0 0 0 0 0 0\n",
      " 1 0 0 0 0 0 0 0 0 0 0 0 0 0 0 0 0 0 0 0 0 0 0 0 0 1 0 0 0 0 1 1 0 0 0 0 0\n",
      " 0 0 0 1 0 0 0 0 0 0 0 0 0 1 1 0 0]\n",
      "[0 1 0 0 0 0 0 1 0 1 0 0 0 0 0 1 0 0 1 0 0 0 0 0 0 0 1 0 1 0 0 0 0 0 0 0 0\n",
      " 1 0 0 0 0 0 0 0 0 0 0 0 0 0 0 0 0 0 0 0 0 0 0 0 0 1 0 0 0 0 1 1 0 0 0 0 0\n",
      " 0 0 0 1 0 0 0 0 0 0 0 0 0 1 1 0 0]\n",
      "[0 0 0 0 0 0 5 0 0 0 0 0 0 0 0 2 0 0 0 1 0 1 0 0 0 0 0 0 0 0 0 0 0 0 0 0 4\n",
      " 0 0 0 0 0 0 0 0 0 0 0 0 0 0 0 0 1 0 0 3 0 0 0 0 0 0 0 0 0 0 2 0 0 0 0 0 0\n",
      " 0 0 0 0 0 0 0 5 0 0 0 0 0 0 0 0 0]\n",
      "[1 1 1 1 1 1 1 1 1 1 1 1 1 1 1 1 1 1 1 0 1 0 1 1 1 1 1 1 1 1 1 1 1 1 1 1 1\n",
      " 1 1 1 1 1 1 1 1 1 1 1 1 1 1 1 1 0 1 1 1 1 1 1 1 1 1 1 1 1 1 1 1 1 1 1 1 1\n",
      " 1 1 1 1 1 1 1 1 1 1 1 1 1 1 1 1 1]\n",
      "[3 1 4 4 3 4 1 2 4 1 1 4 4 1 4 2 4 4 1 0 1 0 3 0 3 4 1 4 2 4 4 1 0 3 0 3 5\n",
      " 2 1 3 4 4 3 4 4 1 4 4 4 3 4 4 0 0 4 4 3 3 4 4 4 3 2 4 3 4 1 2 2 4 4 4 1 0\n",
      " 4 3 4 1 3 3 3 1 4 4 4 3 3 1 2 4 4]\n",
      "8\n",
      "16\n",
      "8\n",
      "19\n",
      "39\n",
      "1\n"
     ]
    }
   ],
   "source": [
    "print(labels_agg)\n",
    "print(labels_kmeans)\n",
    "print(labels_ms)\n",
    "print(labels_bic)\n",
    "print(labels_aic)\n",
    "\n",
    "num0 = 0\n",
    "num1 = 0\n",
    "num2 = 0\n",
    "num3 = 0\n",
    "num4 = 0\n",
    "num5 = 0\n",
    "for i in labels_aic:\n",
    "    if i == 0:\n",
    "        num0 += 1\n",
    "    if i == 1:\n",
    "        num1 += 1\n",
    "    if i == 2:\n",
    "        num2 += 1\n",
    "    if i == 3:\n",
    "        num3 += 1\n",
    "    if i == 4:\n",
    "        num4 += 1\n",
    "    if i == 5:\n",
    "        num5 += 1\n",
    "\n",
    "print(num0)\n",
    "print(num1)\n",
    "print(num2)\n",
    "print(num3)\n",
    "print(num4)\n",
    "print(num5)"
   ]
  },
  {
   "cell_type": "code",
   "execution_count": 26,
   "metadata": {},
   "outputs": [
    {
     "name": "stdout",
     "output_type": "stream",
     "text": [
      "-0.0033041323391952695\n",
      "-0.0030821954838096536\n",
      "0.003178536405918525\n",
      "0.0009484176648178812\n",
      "-0.0026142735610628484\n"
     ]
    }
   ],
   "source": [
    "print(ari_agg)\n",
    "print(ari_kmeans)\n",
    "print(ari_ms)\n",
    "print(ari_bic)\n",
    "print(ari_aic)"
   ]
  }
 ],
 "metadata": {
  "kernelspec": {
   "display_name": "Python 3",
   "language": "python",
   "name": "python3"
  },
  "language_info": {
   "codemirror_mode": {
    "name": "ipython",
    "version": 3
   },
   "file_extension": ".py",
   "mimetype": "text/x-python",
   "name": "python",
   "nbconvert_exporter": "python",
   "pygments_lexer": "ipython3",
   "version": "3.7.0"
  }
 },
 "nbformat": 4,
 "nbformat_minor": 2
}
