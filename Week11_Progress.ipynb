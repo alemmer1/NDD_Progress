{
 "cells": [
  {
   "cell_type": "code",
   "execution_count": 21,
   "metadata": {},
   "outputs": [],
   "source": [
    "# Importing necessary packages\n",
    "import numpy as np\n",
    "import matplotlib.pyplot as plt\n",
    "import operator\n",
    "from mpl_toolkits.mplot3d import Axes3D\n",
    "from sklearn import mixture\n",
    "from sklearn.cluster import KMeans, AgglomerativeClustering, MeanShift, estimate_bandwidth\n",
    "from sklearn.metrics import silhouette_samples, silhouette_score\n",
    "from sklearn.metrics.cluster import adjusted_rand_score\n",
    "from sklearn.datasets import load_iris\n",
    "import scipy.stats as stats"
   ]
  },
  {
   "cell_type": "code",
   "execution_count": 26,
   "metadata": {},
   "outputs": [],
   "source": [
    "# Function goal is to determine the right number of clusters for a given algorithm\n",
    "# Runs algorithms with different numbers of clusters and calculates silhouette coefficient\n",
    "# Returns the number of clusters that leads to the highest silhouette coefficient\n",
    "def get_num_clust(feat_mat,alg):\n",
    "    silhouettes = {}\n",
    "    for k in range(2,11):\n",
    "        if alg == 'agg':\n",
    "            labels = clust_agg(feat_mat,k)\n",
    "            avg_score = silhouette_score(feat_mat, labels)\n",
    "            silhouettes[str(k)] = avg_score\n",
    "        if alg == 'kmeans':\n",
    "            (labels,centers) = clust_Kmeans(feat_mat,k)\n",
    "            avg_score = silhouette_score(feat_mat, labels)\n",
    "            silhouettes[str(k)] = avg_score\n",
    "    num_clust = int(max(silhouettes.items(), key=operator.itemgetter(1))[0])\n",
    "    return num_clust"
   ]
  },
  {
   "cell_type": "code",
   "execution_count": 4,
   "metadata": {},
   "outputs": [],
   "source": [
    "# Function to estimate the bandwidth for MeanShift Clustering\n",
    "def get_bw(feat_mat):\n",
    "    bw = estimate_bandwidth(feat_mat)\n",
    "    return bw"
   ]
  },
  {
   "cell_type": "code",
   "execution_count": 5,
   "metadata": {},
   "outputs": [],
   "source": [
    "# Function runs MeanShift Clustering on a given feature matrix with a specified bandwidth parameters\n",
    "# Returns the label for each sample\n",
    "def clust_MS(feat_mat, bw):\n",
    "    ms = MeanShift(bandwidth=bw).fit(feat_mat)\n",
    "    labels = ms.labels_\n",
    "    centers = ms.cluster_centers_\n",
    "    return (labels, centers)"
   ]
  },
  {
   "cell_type": "code",
   "execution_count": 6,
   "metadata": {},
   "outputs": [],
   "source": [
    "# Function runs K-means on a given feature matrix using a specified number of clusters\n",
    "# Returns the feature matrix, the labels for each data point, and the cluster centers\n",
    "def clust_Kmeans(feat_mat, num_clust):\n",
    "    kmeans = KMeans(init='random', n_clusters=num_clust, n_init=100)\n",
    "    kmeans.fit(feat_mat)\n",
    "    labels = kmeans.labels_\n",
    "    centers = kmeans.cluster_centers_\n",
    "    return (labels, centers)"
   ]
  },
  {
   "cell_type": "code",
   "execution_count": 7,
   "metadata": {},
   "outputs": [],
   "source": [
    "# Function runs Agglomerative Clustering on a given deature matrix using a specified number of clusters\n",
    "# Retruns the label for each sample\n",
    "def clust_agg(feat_mat, num_clust):\n",
    "    labels = AgglomerativeClustering(n_clusters=num_clust).fit_predict(feat_mat)\n",
    "    return labels"
   ]
  },
  {
   "cell_type": "code",
   "execution_count": 44,
   "metadata": {},
   "outputs": [],
   "source": [
    "# Function calculates BIC for different numbers of clusters and different types of fits and returns resulting\n",
    "# bic array\n",
    "def get_bic(feat_mat):\n",
    "    lowest_bic = np.infty\n",
    "    bic = []\n",
    "    n_components_range = range(1, 10)\n",
    "    cv_types = ['spherical', 'tied', 'diag', 'full']\n",
    "    for cv_type in cv_types:\n",
    "        for n_components in n_components_range:\n",
    "            # Fit a Gaussian mixture with EM\n",
    "            gmm = mixture.GaussianMixture(n_components=n_components,\n",
    "                                          covariance_type=cv_type)\n",
    "            gmm.fit(fm)\n",
    "            bic.append(gmm.bic(fm))\n",
    "            if bic[-1] < lowest_bic:\n",
    "                lowest_bic = bic[-1]\n",
    "                best_gmm = gmm\n",
    "    bic = np.array(bic)\n",
    "    return bic"
   ]
  },
  {
   "cell_type": "code",
   "execution_count": 47,
   "metadata": {},
   "outputs": [],
   "source": [
    "# Function calculates BIC for different numbers of clusters and different types of fits and returns resulting\n",
    "# aic array\n",
    "def get_aic(feat_mat):\n",
    "    lowest_aic = np.infty\n",
    "    aic = []\n",
    "    n_components_range = range(1, 10)\n",
    "    cv_types = ['spherical', 'tied', 'diag', 'full']\n",
    "    for cv_type in cv_types:\n",
    "        for n_components in n_components_range:\n",
    "            # Fit a Gaussian mixture with EM\n",
    "            gmm = mixture.GaussianMixture(n_components=n_components,\n",
    "                                          covariance_type=cv_type)\n",
    "            gmm.fit(fm)\n",
    "            aic.append(gmm.aic(fm))\n",
    "            if bic[-1] < lowest_aic:\n",
    "                lowest_aic = aic[-1]\n",
    "                best_gmm = gmm\n",
    "    aic = np.array(aic)\n",
    "    return aic"
   ]
  },
  {
   "cell_type": "code",
   "execution_count": 58,
   "metadata": {},
   "outputs": [],
   "source": [
    "# Comparing algorithms on iris dataset\n",
    "\n",
    "# Loading dataset\n",
    "fm = load_iris().data\n",
    "\n",
    "# True labels\n",
    "true_labels = np.concatenate((np.zeros(50), np.ones(50), np.full(50, 2)))\n",
    "\n",
    "# Agglomerative Clustering & Silhouette Score\n",
    "numc_agg = get_num_clust(fm, 'agg')\n",
    "labels_agg = clust_agg(fm, numc_agg)\n",
    "ari_agg = adjusted_rand_score(true_labels, labels_agg)\n",
    "\n",
    "# Kmeans & Silhouette Score\n",
    "numc_kmeans = get_num_clust(fm, 'kmeans')\n",
    "(labels_kmeans, centers_kmeans) = clust_Kmeans(fm, numc_kmeans)\n",
    "ari_kmeans = adjusted_rand_score(true_labels, labels_kmeans)\n",
    "\n",
    "# MeanShift Clustering & Estimate Bandwidth\n",
    "bw = get_bw(fm)\n",
    "(labels_ms, centers_ms) = clust_MS(fm, bw)\n",
    "ari_ms = adjusted_rand_score(true_labels, labels_ms)\n",
    "\n",
    "# GMM and BIC\n",
    "bic = get_bic(fm)\n",
    "low_bc = np.argmin(bic)\n",
    "\n",
    "# GMM and AIC\n",
    "aic = get_aic(fm)\n",
    "low_aic = np.argmin(aic)\n",
    "\n",
    "# Getting BIC and AIC labels\n",
    "gmm = mixture.GaussianMixture(n_components=2, covariance_type='full')\n",
    "labels_bic = gmm.fit_predict(fm)\n",
    "ari_bic = adjusted_rand_score(true_labels, labels_bic)\n",
    "gmm = mixture.GaussianMixture(n_components=6, covariance_type='full')\n",
    "labels_aic = gmm.fit_predict(fm)\n",
    "ari_aic = adjusted_rand_score(true_labels, labels_aic)"
   ]
  },
  {
   "cell_type": "code",
   "execution_count": 49,
   "metadata": {},
   "outputs": [
    {
     "data": {
      "text/plain": [
       "28"
      ]
     },
     "execution_count": 49,
     "metadata": {},
     "output_type": "execute_result"
    }
   ],
   "source": [
    "low_bc"
   ]
  },
  {
   "cell_type": "code",
   "execution_count": 38,
   "metadata": {},
   "outputs": [
    {
     "data": {
      "text/plain": [
       "array([1804.08543789, 1012.23517979,  853.8093405 ,  784.93215612,\n",
       "        747.01453574,  705.89437061,  738.9873041 ,  753.50480169,\n",
       "        714.74597226,  829.97815451,  688.09722028,  633.84624673,\n",
       "        618.03822133,  625.28622866,  605.17631374,  619.32773739,\n",
       "        673.05024299,  647.44959123, 1522.12015273,  857.55149412,\n",
       "        812.46761503,  705.13592649,  700.97348956,  708.10605017,\n",
       "        715.5800191 ,  734.48531487,  735.65113149,  829.97815451,\n",
       "        574.01783272,  580.86127847,  629.77902872,  681.45898657,\n",
       "        714.99771734,  772.3872465 ,  807.81588265,  861.76317353])"
      ]
     },
     "execution_count": 38,
     "metadata": {},
     "output_type": "execute_result"
    }
   ],
   "source": [
    "bic"
   ]
  },
  {
   "cell_type": "code",
   "execution_count": 50,
   "metadata": {},
   "outputs": [
    {
     "data": {
      "text/plain": [
       "32"
      ]
     },
     "execution_count": 50,
     "metadata": {},
     "output_type": "execute_result"
    }
   ],
   "source": [
    "low_aic"
   ]
  },
  {
   "cell_type": "code",
   "execution_count": 51,
   "metadata": {},
   "outputs": [
    {
     "data": {
      "text/plain": [
       "array([1789.03226142,  979.11819156,  802.6285405 ,  715.42597274,\n",
       "        659.70091295,  600.43649931,  615.55528766,  577.35685422,\n",
       "        548.14337637,  787.82926039,  630.89514969,  561.57004121,\n",
       "        530.7297978 ,  563.58719142,  503.30500762,  507.60151994,\n",
       "        476.55077496,  478.80069804, 1498.03507037,  806.37069412,\n",
       "        666.35669131,  599.75042534,  568.6812067 ,  547.77676717,\n",
       "        517.98801329,  516.60482595,  515.57886024,  787.82926039,\n",
       "        486.70940919,  448.39147183,  452.21036647,  458.67197481,\n",
       "        394.0100179 ,  445.55394866,  450.99260977,  431.37778658])"
      ]
     },
     "execution_count": 51,
     "metadata": {},
     "output_type": "execute_result"
    }
   ],
   "source": [
    "aic"
   ]
  },
  {
   "cell_type": "code",
   "execution_count": 61,
   "metadata": {},
   "outputs": [
    {
     "name": "stdout",
     "output_type": "stream",
     "text": [
      "0.5681159420289855\n",
      "0.5399218294207123\n",
      "0.5583714437541352\n",
      "0.5681159420289855\n",
      "0.5353270220432224\n"
     ]
    }
   ],
   "source": [
    "print(ari_agg)\n",
    "print(ari_kmeans)\n",
    "print(ari_ms)\n",
    "print(ari_bic)\n",
    "print(ari_aic)"
   ]
  },
  {
   "cell_type": "code",
   "execution_count": null,
   "metadata": {},
   "outputs": [],
   "source": []
  }
 ],
 "metadata": {
  "kernelspec": {
   "display_name": "Python 3",
   "language": "python",
   "name": "python3"
  },
  "language_info": {
   "codemirror_mode": {
    "name": "ipython",
    "version": 3
   },
   "file_extension": ".py",
   "mimetype": "text/x-python",
   "name": "python",
   "nbconvert_exporter": "python",
   "pygments_lexer": "ipython3",
   "version": "3.7.0"
  }
 },
 "nbformat": 4,
 "nbformat_minor": 2
}
